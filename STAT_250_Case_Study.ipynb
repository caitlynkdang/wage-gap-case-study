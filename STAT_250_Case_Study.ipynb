{
  "nbformat": 4,
  "nbformat_minor": 0,
  "metadata": {
    "colab": {
      "name": "STAT 250 Case Study.ipynb",
      "provenance": [],
      "collapsed_sections": [
        "sgu8kzE28ZdA",
        "glhMEiWhXGuf"
      ],
      "machine_shape": "hm"
    },
    "kernelspec": {
      "name": "python3",
      "display_name": "Python 3"
    }
  },
  "cells": [
    {
      "cell_type": "markdown",
      "metadata": {
        "id": "7-Xo86PuT-MK",
        "colab_type": "text"
      },
      "source": [
        "#DS10 Case Study: Gender Wage Gaps in High GDP Countries\n",
        "\n",
        "Created by Caitlyn Dang and Karen Yang"
      ]
    },
    {
      "cell_type": "markdown",
      "metadata": {
        "id": "BVvTCRmrVcNY",
        "colab_type": "text"
      },
      "source": [
        "##Learning Goals\n",
        "\n",
        "1. Understand when to use multiple linear regression (MLR)\n",
        "2. Understand how to check assumptions for MLR\n",
        "3. Learn about variable selection methods"
      ]
    },
    {
      "cell_type": "markdown",
      "metadata": {
        "id": "AFJ2TKGrD5K3",
        "colab_type": "text"
      },
      "source": [
        "#Background Information\n",
        ">Motivating article: [“Accelerating gender parity: What can governments do?”](https://www.mckinsey.com/industries/public-sector/our-insights/accelerating-gender-parity-what-can-governments-do) (McKinsey Global Institute)\n"
      ]
    },
    {
      "cell_type": "markdown",
      "metadata": {
        "id": "ckjcc_UAi0Om",
        "colab_type": "text"
      },
      "source": [
        "##What is the gender wage gap?\n",
        "The gender wage gap describes inequality in pay between males and females. The most simple way to calculate gender wage gap at a country level is taking the difference between the median annual incomes of males and females as a proportion of the median annual income for males:\n",
        "\n",
        "$$Wage\\ Gap = \\frac{Median(Male\\ Incomes)-Median(Female\\ Incomes)}{Median(Male\\ Incomes)}$$\n",
        "\n",
        "\n",
        "\n",
        "**A note on measuring gender wage gap**: As we proceed through the case study, we must keep in mind what this wage gap formula implicates: we can't make sweeping conclusions about pay inequality in a country. For example, we cannot simply attribute the entire wage gap to \"discrimination in the work place.\" From this number, it is nearly impossible to tell what this wage gap stems from. This way of measuring (a simple median) the wage gap cannot account for gender differences within jobs (i.e. higher paying jobs may be predominantly male), hours worked (i.e. males may work, on average, more than women), and years of experience (i.e. males may have more work experience than women). In reality, men and women are not going to be completely equal on these fronts, and these factors will inevitably translate to lower pay.\n",
        "\n",
        "It is imperative that we don't take the nationally reported wage gap number at face value but rather dig into the story behind it. Is it because men work more and therefore have higher annual salaries? Is it because women have fewer higher education degrees? There are a variety of factors that could play into this number, which makes it a fascinating topic to study.\n",
        "\n",
        "##Why does the gender wage gap matter?\n",
        "Half of the world’s population is made up of women, but women only generate 37\\% of global GDP. This implies that women do not have the same equal access to labor markets, opportunities, and rights as their male counterparts. \n",
        "\n",
        ">A 2015 report from the McKinsey Global Institute outlines an economic incentive to close this gap as fully closing the gender wage could add up to \\\\$28 trillion to global GDP in 2025.” \n",
        "\n",
        "Closing the gender wage gap is beneficial for both people and for governments.\n"
      ]
    },
    {
      "cell_type": "markdown",
      "metadata": {
        "id": "w00jw3c5jwIM",
        "colab_type": "text"
      },
      "source": [
        "##What does the gender wage gap look like around the world today?\n",
        "\n",
        "<img src=\"https://infographic.statista.com/normal/chartoftheday_4279_the_gender_pay_gap_in_developed_nations_visualised_n.jpg\" alt=\"gender_gap\" width=\"700px\"/>\n",
        " \n",
        "[Source: Statista](https://infographic.statista.com/normal/chartoftheday_4279_the_gender_pay_gap_in_developed_nations_visualised_n.jpg)\n",
        "\n",
        "###The Case in South Korea\n",
        "Above is a graphical representation of gender wage gap in some selected developed countries. In developed countries alone, country wage gaps has a large range of 31 cents per dollar. According to the Organization for Economic Co-operation and Development (OECD), South Korea has the worst wage gap in the world. At the same time, South Korea actually has about the same work-participation rate for women as the US (about 56%). Even so, the wage gap in South Korea is around 15 percentage points higher than in the U.S.  Both South Korea and the U.S. are considered developed countries with high GDPs per capita, so then, what causes this disparity in wage gaps? While countries are categorized as “developed” by the UN on the basis of their GDP, GNP, per capita income, level of industrialization, amount of widespread infrastructure, and general standard of living, why does the severity of wage inequality vary so greatly among developed countries?\n",
        " \n"
      ]
    },
    {
      "cell_type": "markdown",
      "metadata": {
        "id": "uf1EogeOkwPZ",
        "colab_type": "text"
      },
      "source": [
        ">**Class Discussion**: *Based on your prior knowledge, what are factors that contribute to high gender wage gaps in countries?*"
      ]
    },
    {
      "cell_type": "markdown",
      "metadata": {
        "id": "M94FOPM_jwNs",
        "colab_type": "text"
      },
      "source": [
        "##Current hypotheses on gender wage gap\n",
        "Research institutes and academic studies have put forth various hypotheses of factors that affect the magnitude of the wage gap in a country. To name a few:\n",
        "- Low labor-force participation in quality jobs\n",
        "- Low maternal and reproductive health\n",
        "- Unequal education levels\n",
        "- Financial and digital exclusion\n",
        "- Time spent in unpaid care work\n",
        "- Fewer legal rights\n",
        "- Political underrepresentation\n",
        "- Violence against women\n",
        "\n"
      ]
    },
    {
      "cell_type": "markdown",
      "metadata": {
        "id": "gQtJ2wcdkIxN",
        "colab_type": "text"
      },
      "source": [
        "##Why are we looking at the country level?\n",
        "Let's look into case studies of gender inequity in two countries with high GDP per capitas:\n",
        "\n",
        "- Singapore’s female labor force participation rate doubled from 28\\% in 1970 to 58\\% in 2016 after a range of policies helping women to achieve work-life balance were enacted. These policities included paid maternity leave, paid and unpaid childcare leave, increased tax relief, tax rebates, and childcare subsidies. \n",
        "- In Canada, Prime Minister Justin Trudeau named the country’s first gender-balanced cabinet in 2015. This created significant momentum toward gender parity. According to the [UN Global Compact Network in Canada](https://www.globalcompact.ca/resources/sdg-survey-2017/), this Sustainable Development Goal (SGD) was “the single most acted-on SDG in Canada in 2017.”\n",
        " \n",
        "In the examples of Singapore and Canada, we see that **governments can play a large role in fighting pay and job inequity**. Governments can accelerate progress toward parity through legislation, fiscal measures, programmatic change, and public–private partnerships.\n",
        " \n",
        "All forms of gender inequity need to be tackled; however, with limited resources and time, it is important for governments to focus their efforts through **gaining a better understanding of the drivers of inequity**. In order for governments to make informed decisions on how to tackle the wage gap in their own questions, a key question to answer is: \n",
        "\n",
        "\n"
      ]
    },
    {
      "cell_type": "markdown",
      "metadata": {
        "id": "fcQDZNJK09z2",
        "colab_type": "text"
      },
      "source": [
        "##Where should governments focus their resources in the battle against pay inequity?\n",
        "As statisticians, we can utilize qualitative studies on gender inequity and perform a **multiple linear regression** to test the aforementioned hypotheses on factors that contribute to wage gap. This will help us understand the most significant predictors of the wage gap magnitude in a give country. The goal of this multiple linear regression is to create a model that can **predict** wage gap based off of a few key country-level factors. "
      ]
    },
    {
      "cell_type": "markdown",
      "metadata": {
        "id": "CtvcdvhhIiuk",
        "colab_type": "text"
      },
      "source": [
        "# Exploratory Data Analysis\n"
      ]
    },
    {
      "cell_type": "markdown",
      "metadata": {
        "id": "KvUlb41nYEHb",
        "colab_type": "text"
      },
      "source": [
        "\n",
        "##Our Data Source: Our World Data\n",
        "Unfortunately, the data that we need to begin tackling this question does not exist in a single dataset. Therefore, we need to first begin by scrapping the internet for wage gap data at the country level. We also need to collect data on independent variables that we believe, based on our literature review and intuition, may be significant predictors of a country's gender wage gap.\n",
        "\n",
        "One of our motivating sources was the [Our World in Data](https://ourworldindata.org/) dataset. This site provides data to help with doing research and tracking progress on UN Sustatainable Development Goals:\n",
        "\n",
        ">The United Nations Sustainable Development Goals (SDGs) are targets for global development adopted in September 2015, set to be achieved by 2030. 193 member countries have agreed to work towards achieving these goals, elminating poverty, hunger, and inequality by 2030. \n",
        "> Goal number 5 is ending gender inequality. Some of the specific targets outlined in this goal include:\n",
        "- End all forms of discrimination against all women and girls everywhere\n",
        "- Ensure women’s full and effective participation and equal opportunities for leadership at all levels of decisionmaking in political, economic and public life\n",
        "- Adopt and strengthen sound policies and enforceable legislation for the promotion of gender equality and the empowerment of all women and girls at all levels\n",
        "\n",
        "Our World Data's SDG Tracker presents data across a variety of indicators, using **official statistics from the UN and other international organizations**. It is a free, open-access publication that tracks global progress towards the SDGs and allows people around the world to hold their governments accountable to achieving the agreed goals. \n",
        "\n",
        "\n"
      ]
    },
    {
      "cell_type": "markdown",
      "metadata": {
        "id": "D3Mr2Otvi0hu",
        "colab_type": "text"
      },
      "source": [
        "##Variables\n",
        "###Independent Variable\n",
        "* `wage_gap` The difference between median earnings of men and women relative to median earnings of men. Data only includes full-time employees. [Source](https://data.oecd.org/earnwage/gender-wage-gap.htm)\n",
        "\n",
        "###Dependent Variables\n",
        "1. `avg_annual_work_all` Average annual working hours per employed person [Source](https://ourworldindata.org/grapher/annual-working-hours-per-persons-engaged?tab=chart&country=GBR)\n",
        "\n",
        "2. `avg_week_work_women` Average usual weekly hours worked, women 15 years and older [Source](https://ourworldindata.org/grapher/average-usual-weekly-hours-worked-women-15-years-and-older?time=1983..2016&country=GBR)\n",
        "\n",
        "3. `beer_per_captia` Beer consumption per capita [Source](https://ourworldindata.org/grapher/beer-consumption-per-person?tab=chart&time=1961..2015&country=GBR)\n",
        "\n",
        "4. `child_per_woman` Number of children born per women [Source](https://ourworldindata.org/grapher/children-born-per-woman?tab=chart&country=GBR)\n",
        "\n",
        "5. `gdp_per_capita` GDP per capita [Source](https://ourworldindata.org/grapher/average-real-gdp-per-capita-across-countries-and-regions?tab=map&time=2016)\n",
        "\n",
        "6. `gov_exp_per_student_teritary` Average general government expenditure (current, capital, and transfers) per student in the given level of education, expressed as a percentage of GDP per capita. [Source](https://ourworldindata.org/grapher/government-expenditure-per-student-tertiary-of-gdp-per-capita?time=1998..2015&country=GBR)\n",
        "\n",
        "6. `ineq_index` Gender Inequality Index from the Human Development Report [Source](https://ourworldindata.org/grapher/gender-inequality-index-from-the-human-development-report?time=1995..2015&country=GBR)\n",
        ">This index covers three dimensions: reproductive health (based on maternal mortality ratio and adolescent birth\n",
        "rates); empowerment (based on proportion of parliamentary seats occupied by females and proportion of adult\n",
        "females aged 25 years and older with at least some secondary education); and economic status (based on labour\n",
        "market participation rates of female and male populations aged 15 years and older). Scores are between 0-1 and\n",
        "higher values indicate higher inequalities.\n",
        "\n",
        "7. `labor_part` Ratio of female to male labor force participation rate (%) [Source](https://data.worldbank.org/indicator/sl.tlf.cact.zs?end=2019&most_recent_year_desc=true&start=2015)\n",
        "\n",
        "8. `population` Population of country [Source](https://ourworldindata.org/grapher/projected-population-by-country)\n",
        "\n",
        "9. `senior_manage` Proportion of women in senior and middle management positions [Source](https://ourworldindata.org/grapher/proportion-of-women-in-senior-and-middle-management-positions)"
      ]
    },
    {
      "cell_type": "markdown",
      "metadata": {
        "id": "FwWbpwlqTB5j",
        "colab_type": "text"
      },
      "source": [
        "## Data Preparation\n",
        "Before we can begin analyzing our data, we will need to prepare our data that is currently contained in separate csv (comma-separated values) files in [this GitHub repository](https://github.com/caitlynkdang/wage-gap-case-study). In this section we will do the following:\n",
        "1. **Rename** the dependent and independent variables. The variables names from the raw data are very wordy, so we will need to standardize them to make them easier for use later.\n",
        "2. **Merge**  dependent and independent variable datasets into one dataframe.\n",
        "3. **Find** the subset of data for one year with the most number of countries and available data for our chosen variables. We will be using 2014 data across all variables.\n",
        "4. **Fill-in** missing data. Because no real world data set is perfect, we filled in missing data for independent variables by taking the average of the column (i.e. if we were missing data for labor_part for Canada, we would take the average of labor_part across all countries in our dataset). This is one of many ways that we can deal with missing data.\n",
        "\n",
        "After all of this, we have 45 countries and 9 independent variables that are ready to use!\n"
      ]
    },
    {
      "cell_type": "code",
      "metadata": {
        "id": "VeN_8HYJ4Oi6",
        "colab_type": "code",
        "cellView": "form",
        "outputId": "e94a94e3-71b7-448a-eec9-adeed0a2e428",
        "colab": {
          "base_uri": "https://localhost:8080/",
          "height": 34
        }
      },
      "source": [
        "#@title Code to import python libraries\n",
        "# Import Libraries\n",
        "import matplotlib\n",
        "import matplotlib.pyplot as plt\n",
        "import pandas as pd\n",
        "import statsmodels.api as sm\n",
        "import numpy as np\n",
        "import seaborn as sns\n",
        "%matplotlib inline\n",
        "from sklearn.feature_selection import RFE\n",
        "from statsmodels.stats.outliers_influence import variance_inflation_factor\n",
        "from statsmodels.tools.tools import add_constant\n",
        "import warnings\n",
        "warnings.filterwarnings(\"ignore\", category=FutureWarning)\n",
        "\n",
        "\n",
        "print(\"Python libraries imported\")"
      ],
      "execution_count": 0,
      "outputs": [
        {
          "output_type": "stream",
          "text": [
            "Python libraries imported\n"
          ],
          "name": "stdout"
        }
      ]
    },
    {
      "cell_type": "code",
      "metadata": {
        "id": "uD9SO8HRi-TE",
        "colab_type": "code",
        "cellView": "form",
        "outputId": "4c804ba1-2ef5-4f9e-b0fd-8890567c3cbf",
        "colab": {
          "base_uri": "https://localhost:8080/",
          "height": 34
        }
      },
      "source": [
        "#@title Code to import data\n",
        "# Import Data\n",
        "## Independent Variable\n",
        "wage_gap_url = \"https://raw.githubusercontent.com/caitlynkdang/wage-gap-case-study/master/wage_gap.csv\"\n",
        "\n",
        "## Dependent Variables\n",
        "avg_annual_work_all_url = \"https://raw.githubusercontent.com/caitlynkdang/wage-gap-case-study/master/working_hours_all.csv\"\n",
        "avg_week_work_women_url = \"https://raw.githubusercontent.com/caitlynkdang/wage-gap-case-study/master/working_hours_women.csv\"\n",
        "beer_per_capita_url = \"https://raw.githubusercontent.com/caitlynkdang/wage-gap-case-study/master/beer-consumption-per-person.csv\"\n",
        "child_per_woman_url = \"https://raw.githubusercontent.com/caitlynkdang/wage-gap-case-study/master/children-born-per-woman.csv\"\n",
        "gdp_per_capita_url = 'https://raw.githubusercontent.com/caitlynkdang/wage-gap-case-study/master/gender-wage-gap-vs-gdp-per-capita.csv'\n",
        "gov_exp_per_student_teritary_url = \"https://raw.githubusercontent.com/caitlynkdang/wage-gap-case-study/master/government-expenditure-per-student-tertiary-of-gdp-per-capita.csv\"\n",
        "ineq_index_url = \"https://raw.githubusercontent.com/caitlynkdang/wage-gap-case-study/master/gender-inequality-index.csv\"\n",
        "labor_part_url = \"https://raw.githubusercontent.com/caitlynkdang/wage-gap-case-study/master/gender-gap-in-hourly-wages-vs-ratio-of-female-to-male-labor-force-participation.csv\"\n",
        "senior_manage_url = \"https://raw.githubusercontent.com/caitlynkdang/wage-gap-case-study/master/proportion-of-women-in-senior-and-middle-management-positions.csv\"\n",
        "\n",
        "# Read as a pandas dataframe\n",
        "# Independent Variable\n",
        "wage_gap = pd.read_csv(wage_gap_url)\n",
        "\n",
        "# Dependent Variables\n",
        "avg_annual_work_all = pd.read_csv(avg_annual_work_all_url)\n",
        "avg_week_work_women = pd.read_csv(avg_week_work_women_url)\n",
        "beer_per_captia = pd.read_csv(beer_per_capita_url)\n",
        "child_per_woman = pd.read_csv(child_per_woman_url)\n",
        "gdp_per_capita = pd.read_csv(gdp_per_capita_url)\n",
        "gov_exp_per_student_teritary = pd.read_csv(gov_exp_per_student_teritary_url)\n",
        "ineq_index = pd.read_csv(inqe_index_url)\n",
        "labor_part = pd.read_csv(labor_part_url)\n",
        "senior_manage = pd.read_csv(senior_manage_url)\n",
        "\n",
        "print(\"Data loaded into pandas dataframes\")"
      ],
      "execution_count": 0,
      "outputs": [
        {
          "output_type": "stream",
          "text": [
            "Data loaded into pandas dataframes\n"
          ],
          "name": "stdout"
        }
      ]
    },
    {
      "cell_type": "code",
      "metadata": {
        "id": "MdWxx8zPJs6k",
        "colab_type": "code",
        "cellView": "form",
        "outputId": "f537304a-6819-486f-e51c-2b293341a734",
        "colab": {
          "base_uri": "https://localhost:8080/",
          "height": 51
        }
      },
      "source": [
        "#@title Code to clean data\n",
        "# Clean Wage_Gap data to match format of other datasets\n",
        "wage_gap = wage_gap.rename(columns={\"LOCATION\":\"Code\", \"TIME\": \"Year\"})\n",
        "wage_gap = wage_gap[wage_gap[\"SUBJECT\"] == \"EMPLOYEE\"]\n",
        "\n",
        "# List of dependent variables\n",
        "variables = [wage_gap,\n",
        "             avg_annual_work_all, \n",
        "             avg_week_work_women, \n",
        "             beer_per_captia, \n",
        "             child_per_woman, \n",
        "             gdp_per_capita,\n",
        "             gov_exp_per_student_teritary,\n",
        "             ineq_index,\n",
        "             labor_part,\n",
        "             senior_manage]\n",
        "print(\"There are \" + str(len(variables)) + \" variables (independent and dependent)\")\n",
        "print(\"Data cleaned!\")"
      ],
      "execution_count": 0,
      "outputs": [
        {
          "output_type": "stream",
          "text": [
            "There are 10 variables (independent and dependent)\n",
            "Data cleaned!\n"
          ],
          "name": "stdout"
        }
      ]
    },
    {
      "cell_type": "code",
      "metadata": {
        "id": "gejUrehw5DiW",
        "colab_type": "code",
        "cellView": "form",
        "outputId": "d762a68e-5429-4b30-95aa-e5206d89c932",
        "colab": {
          "base_uri": "https://localhost:8080/",
          "height": 241
        }
      },
      "source": [
        "#@title Code to merge data into one dataframe\n",
        "# Select year, group of countries, and create clean dataframe to use for multiple linear regression\n",
        "year = 2014\n",
        "\n",
        "# Find intersection of countries\n",
        "countries = list(variables[0][\"Code\"])\n",
        "for i in range(len(variables)-1):\n",
        "  countries = countries + (list(set(countries) & set(variables[i+1][\"Code\"])))\n",
        "\n",
        "def create_df(df):\n",
        "  df1 = df[df[\"Code\"].isin(countries)]\n",
        "  df2 = df1[df1[\"Year\"] == year]\n",
        "  return df2\n",
        "\n",
        "new_datasets = []\n",
        "for i in variables:\n",
        "  new_datasets.append(create_df(i))\n",
        "\n",
        "# Start with wage_gap\n",
        "final_wage_gap = new_datasets[0]\n",
        "final_wage_gap = final_wage_gap.rename(columns={\"Value\":\"Wage Gap\"})\n",
        "final = final_wage_gap.drop(columns=[\"INDICATOR\", \"SUBJECT\", \"MEASURE\", \"FREQUENCY\",\"Flag Codes\"])\n",
        "\n",
        "# Merge datasets\n",
        "for i in range(len(new_datasets)-1):\n",
        "  final = final.merge(new_datasets[i+1], on=\"Code\", how=\"outer\")\n",
        "\n",
        "code_countries_df = final[[\"Code\",\"Entity_x\"]]\n",
        "\n",
        "final = final[[\"Code\", \n",
        "               \"Wage Gap\", \n",
        "               \"Average annual hours worked by persons engaged (hours per person engaged)\",\n",
        "               \"Average weekly hours worked (women, 15+) (OECD Labor Force Statistics (2017)) (Hours)\",\n",
        "               \"Indicator:Alcohol, recorded per capita (15+) consumption (in litres of pure alcohol) - Beverage Types:Beer (litres of pure alcohol)\",\n",
        "               \"Fertility rate (children per woman)\",\n",
        "               \"GDP per capita, PPP (current international $) (current international $)\",\n",
        "               \"Government expenditure per student, tertiary (% of GDP per capita) (% of GDP per capita)\",\n",
        "               \"Gender Inequality Index (Human Development Report (2015)) ((index score))\",\n",
        "               \"Ratio of female to male labor force participation rate (%) (modeled ILO estimate) (modeled ILO estimate)\",\n",
        "               \"5.5.2 - Proportion of women in senior and middle management positions - IC_GEN_MGTN (Percent)\"]]\n",
        "\n",
        "final = final.rename(columns={\n",
        "    \"Wage Gap\": \"wage_gap\",\n",
        "    \"Average annual hours worked by persons engaged (hours per person engaged)\": \"avg_annual_work_all\",\n",
        "    \"Average weekly hours worked (women, 15+) (OECD Labor Force Statistics (2017)) (Hours)\": \"avg_week_work_women\",\n",
        "    \"Indicator:Alcohol, recorded per capita (15+) consumption (in litres of pure alcohol) - Beverage Types:Beer (litres of pure alcohol)\": \"beer_per_capita\",\n",
        "    \"Fertility rate (children per woman)\": \"child_per_woman\",\n",
        "    \"GDP per capita, PPP (current international $) (current international $)\": \"gdp_per_capita\",\n",
        "    \"Government expenditure per student, tertiary (% of GDP per capita) (% of GDP per capita)\": \"gov_exp_per_student_teritary\",\n",
        "    \"Gender Inequality Index (Human Development Report (2015)) ((index score))\": \"ineq_index\",\n",
        "    \"Ratio of female to male labor force participation rate (%) (modeled ILO estimate) (modeled ILO estimate)\": \"labor_part\",\n",
        "    \"5.5.2 - Proportion of women in senior and middle management positions - IC_GEN_MGTN (Percent)\": \"senior_manage\"\n",
        "    \n",
        "})\n",
        "\n",
        "print(\"Here's a sneak peak of the data!\")\n",
        "final.head()"
      ],
      "execution_count": 0,
      "outputs": [
        {
          "output_type": "stream",
          "text": [
            "Here's a sneak peak of the data!\n"
          ],
          "name": "stdout"
        },
        {
          "output_type": "execute_result",
          "data": {
            "text/html": [
              "<div>\n",
              "<style scoped>\n",
              "    .dataframe tbody tr th:only-of-type {\n",
              "        vertical-align: middle;\n",
              "    }\n",
              "\n",
              "    .dataframe tbody tr th {\n",
              "        vertical-align: top;\n",
              "    }\n",
              "\n",
              "    .dataframe thead th {\n",
              "        text-align: right;\n",
              "    }\n",
              "</style>\n",
              "<table border=\"1\" class=\"dataframe\">\n",
              "  <thead>\n",
              "    <tr style=\"text-align: right;\">\n",
              "      <th></th>\n",
              "      <th>Code</th>\n",
              "      <th>wage_gap</th>\n",
              "      <th>avg_annual_work_all</th>\n",
              "      <th>avg_week_work_women</th>\n",
              "      <th>beer_per_capita</th>\n",
              "      <th>child_per_woman</th>\n",
              "      <th>gdp_per_capita</th>\n",
              "      <th>gov_exp_per_student_teritary</th>\n",
              "      <th>ineq_index</th>\n",
              "      <th>labor_part</th>\n",
              "      <th>senior_manage</th>\n",
              "    </tr>\n",
              "  </thead>\n",
              "  <tbody>\n",
              "    <tr>\n",
              "      <th>0</th>\n",
              "      <td>AUS</td>\n",
              "      <td>15.384615</td>\n",
              "      <td>1747.9370</td>\n",
              "      <td>30.942278</td>\n",
              "      <td>4.01</td>\n",
              "      <td>1.87</td>\n",
              "      <td>46742.802654</td>\n",
              "      <td>NaN</td>\n",
              "      <td>0.123</td>\n",
              "      <td>82.572155</td>\n",
              "      <td>32.3</td>\n",
              "    </tr>\n",
              "    <tr>\n",
              "      <th>1</th>\n",
              "      <td>AUT</td>\n",
              "      <td>17.728884</td>\n",
              "      <td>1621.5658</td>\n",
              "      <td>31.940802</td>\n",
              "      <td>6.25</td>\n",
              "      <td>1.48</td>\n",
              "      <td>48787.491592</td>\n",
              "      <td>35.929340</td>\n",
              "      <td>0.083</td>\n",
              "      <td>82.746620</td>\n",
              "      <td>27.9</td>\n",
              "    </tr>\n",
              "    <tr>\n",
              "      <th>2</th>\n",
              "      <td>BEL</td>\n",
              "      <td>3.298900</td>\n",
              "      <td>1555.2025</td>\n",
              "      <td>33.158155</td>\n",
              "      <td>6.21</td>\n",
              "      <td>1.79</td>\n",
              "      <td>44601.367113</td>\n",
              "      <td>NaN</td>\n",
              "      <td>0.076</td>\n",
              "      <td>81.211120</td>\n",
              "      <td>31.3</td>\n",
              "    </tr>\n",
              "    <tr>\n",
              "      <th>3</th>\n",
              "      <td>CAN</td>\n",
              "      <td>19.229000</td>\n",
              "      <td>1703.6506</td>\n",
              "      <td>NaN</td>\n",
              "      <td>3.80</td>\n",
              "      <td>1.60</td>\n",
              "      <td>45519.793919</td>\n",
              "      <td>NaN</td>\n",
              "      <td>0.102</td>\n",
              "      <td>86.669883</td>\n",
              "      <td>NaN</td>\n",
              "    </tr>\n",
              "    <tr>\n",
              "      <th>4</th>\n",
              "      <td>CZE</td>\n",
              "      <td>16.254560</td>\n",
              "      <td>1776.7375</td>\n",
              "      <td>38.452430</td>\n",
              "      <td>6.93</td>\n",
              "      <td>1.51</td>\n",
              "      <td>32263.315755</td>\n",
              "      <td>20.118771</td>\n",
              "      <td>0.134</td>\n",
              "      <td>74.586935</td>\n",
              "      <td>26.6</td>\n",
              "    </tr>\n",
              "  </tbody>\n",
              "</table>\n",
              "</div>"
            ],
            "text/plain": [
              "  Code   wage_gap  avg_annual_work_all  ...  ineq_index  labor_part  senior_manage\n",
              "0  AUS  15.384615            1747.9370  ...       0.123   82.572155           32.3\n",
              "1  AUT  17.728884            1621.5658  ...       0.083   82.746620           27.9\n",
              "2  BEL   3.298900            1555.2025  ...       0.076   81.211120           31.3\n",
              "3  CAN  19.229000            1703.6506  ...       0.102   86.669883            NaN\n",
              "4  CZE  16.254560            1776.7375  ...       0.134   74.586935           26.6\n",
              "\n",
              "[5 rows x 11 columns]"
            ]
          },
          "metadata": {
            "tags": []
          },
          "execution_count": 119
        }
      ]
    },
    {
      "cell_type": "code",
      "metadata": {
        "id": "exgTYpoaTYqO",
        "colab_type": "code",
        "cellView": "form",
        "outputId": "01b43155-786f-4b49-83e7-d35d29867280",
        "colab": {
          "base_uri": "https://localhost:8080/",
          "height": 34
        }
      },
      "source": [
        "#@title Code to deal with missing data\n",
        "final = final.fillna(final.mean())\n",
        "print(\"Missing data filled!\")\n"
      ],
      "execution_count": 0,
      "outputs": [
        {
          "output_type": "stream",
          "text": [
            "Missing data filled!\n"
          ],
          "name": "stdout"
        }
      ]
    },
    {
      "cell_type": "markdown",
      "metadata": {
        "id": "PcO6zdRWK9TF",
        "colab_type": "text"
      },
      "source": [
        "#Checking Assumptions\n",
        "Before we begin any type of analysis, we will need to check four key assumptions for multiple linear regressions:\n",
        "\n",
        "1. **Linear relationship** via scatterplots of each independent variable\n",
        "2. **Normality** via a CDF plot of each independent variable\n",
        "3. **No multicollinearity** via the Variation Inflation Factor of each independent variables\n",
        "4. **Homoskedasticity** via residual plots of each independent variable"
      ]
    },
    {
      "cell_type": "markdown",
      "metadata": {
        "id": "Uo_kKStFEBNx",
        "colab_type": "text"
      },
      "source": [
        "##Assumption 1: Testing for Normality\n",
        "We plot the CDF curve for each independent variable to make sure each is approximately normal. If not, we will need to transform the variables."
      ]
    },
    {
      "cell_type": "code",
      "metadata": {
        "id": "2Sq7ZfSPioPI",
        "colab_type": "code",
        "outputId": "fb5e9357-9443-4cd1-a94c-5bef88107178",
        "cellView": "form",
        "colab": {
          "base_uri": "https://localhost:8080/",
          "height": 282
        }
      },
      "source": [
        "#@title Code to plot CDF of dependent variable: `wage_gap`\n",
        "wage_sorted = final.wage_gap.sort_values()\n",
        "plt.hist(wage_sorted, density=1, bins=100, cumulative=True) \n",
        "plt.ylabel('Probability')"
      ],
      "execution_count": 0,
      "outputs": [
        {
          "output_type": "execute_result",
          "data": {
            "text/plain": [
              "Text(0, 0.5, 'Probability')"
            ]
          },
          "metadata": {
            "tags": []
          },
          "execution_count": 121
        },
        {
          "output_type": "display_data",
          "data": {
            "image/png": "[encoded data removed]",
            "text/plain": [
              "<Figure size 432x288 with 1 Axes>"
            ]
          },
          "metadata": {
            "tags": []
          }
        }
      ]
    },
    {
      "cell_type": "markdown",
      "metadata": {
        "id": "tfgmQVZNmtgi",
        "colab_type": "text"
      },
      "source": [
        "From the CDF curve, we can tell that the dependent variable is approximately normal."
      ]
    },
    {
      "cell_type": "code",
      "metadata": {
        "id": "KK43i0IqEI5L",
        "colab_type": "code",
        "cellView": "form",
        "outputId": "a2b9688e-bedb-4af0-f643-a77209e3efbb",
        "colab": {
          "base_uri": "https://localhost:8080/",
          "height": 519
        }
      },
      "source": [
        "#@title Code for CDF for independent variables\n",
        "fig3, ax3 = plt.subplots(2, 5, figsize=(15,8))\n",
        "fig3.subplots_adjust(wspace=0.5, hspace=0.5)\n",
        "\n",
        "columns = final.columns\n",
        "k = 2\n",
        "for i in range(2):\n",
        "    for j in range(5):\n",
        "        if (k >= 11):\n",
        "          next\n",
        "        else:\n",
        "          ax3[i, j].hist(x = final[columns[k]], bins = 100, cumulative= True, density = 1)\n",
        "          ax3[i, j].set_title(columns[k])\n",
        "          k = k + 1\n",
        "\n",
        "fig3.delaxes(ax3[1,4])"
      ],
      "execution_count": 0,
      "outputs": [
        {
          "output_type": "display_data",
          "data": {
            "image/png": "[encoded data removed]",
            "text/plain": [
              "<Figure size 1080x576 with 9 Axes>"
            ]
          },
          "metadata": {
            "tags": []
          }
        }
      ]
    },
    {
      "cell_type": "markdown",
      "metadata": {
        "id": "SZ7Tdp9BLJSn",
        "colab_type": "text"
      },
      "source": [
        "From the CDF plots, we need to do the following transformations to make the variables normal:\n",
        "* `avg_week_work_women` &rarr; `avg_week_work_women`$^2$\n",
        "* `child_per_women` &rarr; $log($ `child_per_women` $)$\n",
        "* `gdp_per_capita` &rarr; $log($ `gdp_per_capita` $)$\n",
        "* `gov_exp_per_student_teritary` &rarr; $log($ `gov_exp_per_student_teritary` $)$\n",
        "* `ineq_index` &rarr; $log($ `ineq_index` $)$\n",
        "* `labor part` &rarr; `labor part`$^2$\n"
      ]
    },
    {
      "cell_type": "markdown",
      "metadata": {
        "id": "CRUq_LwXEtWD",
        "colab_type": "text"
      },
      "source": [
        "###Transforming Variables"
      ]
    },
    {
      "cell_type": "code",
      "metadata": {
        "id": "jB2GahJZl8e2",
        "colab_type": "code",
        "cellView": "both",
        "colab": {}
      },
      "source": [
        "#@title Code for transformations\n",
        "# Transform variables\n",
        "final_dup = final\n",
        "final_dup[\"avg_week_work_women\"] = np.square(final_dup[\"avg_week_work_women\"])\n",
        "final_dup[\"child_per_woman\"] = np.log(final_dup[\"child_per_woman\"])\n",
        "final_dup[\"gdp_per_capita\"] = np.log(final_dup[\"gdp_per_capita\"])\n",
        "final_dup[\"gov_exp_per_student_teritary\"] = np.log(final_dup[\"gov_exp_per_student_teritary\"])\n",
        "final_dup[\"ineq_index\"] = np.log(final_dup[\"ineq_index\"])\n",
        "final_dup[\"labor_part\"] = np.square(final_dup[\"labor_part\"])\n"
      ],
      "execution_count": 0,
      "outputs": []
    },
    {
      "cell_type": "code",
      "metadata": {
        "id": "6dO2_z0hnlq6",
        "colab_type": "code",
        "cellView": "form",
        "outputId": "f0fd4776-71e8-4055-d2a8-59a89a0c00ad",
        "colab": {
          "base_uri": "https://localhost:8080/",
          "height": 532
        }
      },
      "source": [
        "#@title Code for visualization of transformations\n",
        "fig4, ax4 = plt.subplots(2, 5, figsize=(15,8))\n",
        "fig4.subplots_adjust(wspace=0.5, hspace=0.5)\n",
        "\n",
        "columns = final_dup.columns\n",
        "k = 2\n",
        "for i in range(2):\n",
        "    for j in range(5):\n",
        "        if (k >= 11):\n",
        "          next\n",
        "        else:\n",
        "          ax4[i, j].hist(x = final_dup[columns[k]], bins = 100, cumulative= True, density = 1)\n",
        "          ax4[i, j].set_title(columns[k])\n",
        "          k = k + 1\n",
        "\n",
        "fig4.delaxes(ax4[1,4])"
      ],
      "execution_count": 0,
      "outputs": [
        {
          "output_type": "display_data",
          "data": {
            "image/png": "[encoded data removed]",
            "text/plain": [
              "<Figure size 1080x576 with 9 Axes>"
            ]
          },
          "metadata": {
            "tags": []
          }
        }
      ]
    },
    {
      "cell_type": "markdown",
      "metadata": {
        "id": "Z4xtAp9hqJXY",
        "colab_type": "text"
      },
      "source": [
        "After the transformations, these plots look more normal!"
      ]
    },
    {
      "cell_type": "markdown",
      "metadata": {
        "id": "TOvfh3jOD6Am",
        "colab_type": "text"
      },
      "source": [
        "##Assumption 2: Testing for Linearity\n",
        "We will look at scatterplots of each indepedent variable (including the transformation) plotted against `wage_gap`. A mostly linear trend in the scatterplot will satisfy this assumption."
      ]
    },
    {
      "cell_type": "code",
      "metadata": {
        "id": "GTQLr2wa39o4",
        "colab_type": "code",
        "cellView": "form",
        "outputId": "0b373aba-e9b1-4bc8-f9a2-4ecd7a334609",
        "colab": {
          "base_uri": "https://localhost:8080/",
          "height": 626
        }
      },
      "source": [
        "#@title Code for scatterplots of independent variables\n",
        "#plt.scatter(x=final[\"GDP per \"],y=final[\"Wage Gap\"],)\n",
        "\n",
        "fig, ax = plt.subplots(2, 5, figsize=(15,10))\n",
        "fig.subplots_adjust(wspace=0.5, hspace=0.5)\n",
        "\n",
        "columns = final.columns\n",
        "k = 2\n",
        "for i in range(2):\n",
        "    for j in range(5):\n",
        "        if (k >= 11):\n",
        "          next\n",
        "        else:\n",
        "          ax[i, j].scatter(x = final[columns[k]], y = final[\"wage_gap\"])\n",
        "          ax[i, j].set_xlabel(columns[k])\n",
        "          ax[i, j].set_ylabel(\"Wage Gap\")\n",
        "          k = k + 1\n",
        "\n",
        "fig.delaxes(ax[1,4])"
      ],
      "execution_count": 0,
      "outputs": [
        {
          "output_type": "display_data",
          "data": {
            "image/png": "[encoded data removed]",
            "text/plain": [
              "<Figure size 1080x720 with 9 Axes>"
            ]
          },
          "metadata": {
            "tags": []
          }
        }
      ]
    },
    {
      "cell_type": "markdown",
      "metadata": {
        "colab_type": "text",
        "id": "nfNUomeC2J2y"
      },
      "source": [
        "All of our variables seem to have an approximately normal relationship with `wage_gap`."
      ]
    },
    {
      "cell_type": "markdown",
      "metadata": {
        "id": "E0lcT3y7EgsS",
        "colab_type": "text"
      },
      "source": [
        "##Assumption 3: Testing for Multicollinearity\n",
        "\n",
        "We want to figure out if we need to drop any variables due to high correlation between independent variables. If there is high correlation between any of the predictors, they provide redundant information.\n",
        "\n",
        "To check for multicollinearity, we will calculate the variation inflation factor for each independent variable. A VIF above the threshold of 5 (this threshold can vary) raises red flags."
      ]
    },
    {
      "cell_type": "code",
      "metadata": {
        "id": "yOVEgkLVSE_I",
        "colab_type": "code",
        "cellView": "form",
        "outputId": "f73ab125-eb95-42e7-9e90-d86dea1936c4",
        "colab": {
          "base_uri": "https://localhost:8080/",
          "height": 359
        }
      },
      "source": [
        "#@title Code for VIF\n",
        "columns = final_dup.columns \n",
        "X = final_dup[columns[2:]]\n",
        "X = add_constant(X)\n",
        "vif = [variance_inflation_factor(X.values, i) for i in range(X.shape[1])]\n",
        "vif_df = pd.DataFrame(vif, X.columns)\n",
        "vif_df = vif_df.rename(columns={0:\"VIF\"})\n",
        "vif_df"
      ],
      "execution_count": 0,
      "outputs": [
        {
          "output_type": "execute_result",
          "data": {
            "text/html": [
              "<div>\n",
              "<style scoped>\n",
              "    .dataframe tbody tr th:only-of-type {\n",
              "        vertical-align: middle;\n",
              "    }\n",
              "\n",
              "    .dataframe tbody tr th {\n",
              "        vertical-align: top;\n",
              "    }\n",
              "\n",
              "    .dataframe thead th {\n",
              "        text-align: right;\n",
              "    }\n",
              "</style>\n",
              "<table border=\"1\" class=\"dataframe\">\n",
              "  <thead>\n",
              "    <tr style=\"text-align: right;\">\n",
              "      <th></th>\n",
              "      <th>VIF</th>\n",
              "    </tr>\n",
              "  </thead>\n",
              "  <tbody>\n",
              "    <tr>\n",
              "      <th>const</th>\n",
              "      <td>18060.942980</td>\n",
              "    </tr>\n",
              "    <tr>\n",
              "      <th>avg_annual_work_all</th>\n",
              "      <td>3.437526</td>\n",
              "    </tr>\n",
              "    <tr>\n",
              "      <th>avg_week_work_women</th>\n",
              "      <td>3.435175</td>\n",
              "    </tr>\n",
              "    <tr>\n",
              "      <th>beer_per_capita</th>\n",
              "      <td>1.263505</td>\n",
              "    </tr>\n",
              "    <tr>\n",
              "      <th>child_per_woman</th>\n",
              "      <td>1.541895</td>\n",
              "    </tr>\n",
              "    <tr>\n",
              "      <th>gdp_per_capita</th>\n",
              "      <td>3.981961</td>\n",
              "    </tr>\n",
              "    <tr>\n",
              "      <th>gov_exp_per_student_teritary</th>\n",
              "      <td>1.416379</td>\n",
              "    </tr>\n",
              "    <tr>\n",
              "      <th>ineq_index</th>\n",
              "      <td>3.951038</td>\n",
              "    </tr>\n",
              "    <tr>\n",
              "      <th>labor_part</th>\n",
              "      <td>3.914798</td>\n",
              "    </tr>\n",
              "    <tr>\n",
              "      <th>senior_manage</th>\n",
              "      <td>1.850615</td>\n",
              "    </tr>\n",
              "  </tbody>\n",
              "</table>\n",
              "</div>"
            ],
            "text/plain": [
              "                                       VIF\n",
              "const                         18060.942980\n",
              "avg_annual_work_all               3.437526\n",
              "avg_week_work_women               3.435175\n",
              "beer_per_capita                   1.263505\n",
              "child_per_woman                   1.541895\n",
              "gdp_per_capita                    3.981961\n",
              "gov_exp_per_student_teritary      1.416379\n",
              "ineq_index                        3.951038\n",
              "labor_part                        3.914798\n",
              "senior_manage                     1.850615"
            ]
          },
          "metadata": {
            "tags": []
          },
          "execution_count": 136
        }
      ]
    },
    {
      "cell_type": "markdown",
      "metadata": {
        "id": "RCNnkVqX9qLs",
        "colab_type": "text"
      },
      "source": [
        "All of the VIFs are less than 5, so there is nothing to drop!"
      ]
    },
    {
      "cell_type": "markdown",
      "metadata": {
        "id": "bGvW7ZCRtmCm",
        "colab_type": "text"
      },
      "source": [
        "##Assumption 4: Checking for Homoskedasticity\n",
        "To check this assumption, we will need to plot the residual plot for the model. This will be done after we run each model."
      ]
    },
    {
      "cell_type": "markdown",
      "metadata": {
        "id": "rHGWzdYXWljP",
        "colab_type": "text"
      },
      "source": [
        "# Variable Selection\n",
        "After we have checked assumptions, we can now move onto running the model. Variable selection is used to select the \"best\" subset of predictors from our current list of 9. In this step of the process, we will use 3 variable selection methods and then compare the results:  \n",
        "- Method 1: Backwards elimination\n",
        "- Method 2: Forward selection\n",
        "- Method 3: Backwards and forward selection"
      ]
    },
    {
      "cell_type": "markdown",
      "metadata": {
        "id": "iJX7N-F4f_qJ",
        "colab_type": "text"
      },
      "source": [
        "##Method 1: Backwards Elimination\n",
        "\n",
        "Backward eliminations starts with using all predictors as variables in the multiple linear regression (MLR). It will iteratively remove the worst performing variables (p-values above 0.05) until all p-values are significant (less than 0.05)."
      ]
    },
    {
      "cell_type": "code",
      "metadata": {
        "id": "PBhq1wfGR2G1",
        "colab_type": "code",
        "cellView": "form",
        "outputId": "1e4e35c0-94ae-48e2-c598-0a340fcf30bd",
        "colab": {
          "base_uri": "https://localhost:8080/",
          "height": 34
        }
      },
      "source": [
        "#@title Code for Variable Selection: Backward Elimination\n",
        "\n",
        "columns = final_dup.columns\n",
        "X = final_dup[columns[2:]]\n",
        "y = final_dup[\"wage_gap\"]\n",
        "\n",
        "# Adding constant column of ones, mandatory for sm.OLS model\n",
        "X_1 = sm.add_constant(X)\n",
        "\n",
        "# Fitting sm.OLS model\n",
        "model = sm.OLS(y,X_1).fit()\n",
        "model.pvalues\n",
        "\n",
        "# Backward Elimination\n",
        "## Collecting all variables in a list\n",
        "cols = list(X.columns)\n",
        "\n",
        "while (len(cols)>0):\n",
        "    # Initilizing list of p-values for each iteration of the model\n",
        "    p = []\n",
        "    # Redefining dataframe for subset of variables\n",
        "    X_1 = X[cols]\n",
        "    X_1 = sm.add_constant(X_1)\n",
        "    # Fit model\n",
        "    model = sm.OLS(y,X_1).fit()\n",
        "    # Store all new p-values of the model\n",
        "    p = pd.Series(model.pvalues.values) \n",
        "    # Find the maximum p-value and store its index     \n",
        "    pmax = max(p)\n",
        "    feature_with_p_max = p.idxmax()\n",
        "    # If the max p-value is greater than 0.05, drop from variable list\n",
        "    if(pmax > 0.05):\n",
        "        cols.pop(feature_with_p_max-1)\n",
        "    # Else, all p-values are less than 0.05\n",
        "    else:\n",
        "        # Variable selected finished\n",
        "        break\n",
        "b_selected_features = cols\n",
        "\n",
        "print(\"Selected Variables are \" + str(b_selected_features))"
      ],
      "execution_count": 0,
      "outputs": [
        {
          "output_type": "stream",
          "text": [
            "Selected Variables are ['avg_annual_work_all', 'ineq_index']\n"
          ],
          "name": "stdout"
        }
      ]
    },
    {
      "cell_type": "markdown",
      "metadata": {
        "id": "ZRwsqF6zfGtk",
        "colab_type": "text"
      },
      "source": [
        "##Method 2: Forward Selection\n",
        "\n",
        "Forward selection starts with an empty set of predictors. We regress each independent variable against `wage_gap` and choose the variable with the highest F-value. We then iteratively add on one more variable that increases the model's F-value until there are no more variables that will make the model better."
      ]
    },
    {
      "cell_type": "code",
      "metadata": {
        "id": "2Bm0nCkn-UPc",
        "colab_type": "code",
        "cellView": "form",
        "outputId": "fef7c3cc-5336-4941-da62-b991e0257b0e",
        "colab": {
          "base_uri": "https://localhost:8080/",
          "height": 34
        }
      },
      "source": [
        "#@title Code for Forward Variable Selection\n",
        "columns = final_dup.columns\n",
        "X = final_dup[columns[2:]]\n",
        "y = final_dup[\"wage_gap\"]\n",
        "\n",
        "# Adding constant column of ones, mandatory for sm.OLS model\n",
        "X_1 = sm.add_constant(X)\n",
        "\n",
        "# Forward Elimination\n",
        "# List of all variables\n",
        "cols = list(X.columns)\n",
        "\n",
        "# Initialize list of selected variables\n",
        "f_selected_feats = []\n",
        "max_f = 0\n",
        "\n",
        "while len(cols) > 0:\n",
        "  fs = []\n",
        "  for i in cols:\n",
        "      temp_feats = f_selected_feats + [i]\n",
        "      X_1 = sm.add_constant(X[temp_feats])\n",
        "      model = sm.OLS(y, X_1).fit()\n",
        "      f = model.fvalue\n",
        "      fs.append(f)\n",
        "  if (max(fs) > max_f):\n",
        "    max_f = max(fs)\n",
        "    high_f_idx = np.argmax(fs)\n",
        "    f_selected_feats.append(cols[high_f_idx])\n",
        "    cols.pop(high_f_idx)\n",
        "  else:\n",
        "    break\n",
        "\n",
        "print(\"Selected variables are\", f_selected_feats)"
      ],
      "execution_count": 0,
      "outputs": [
        {
          "output_type": "stream",
          "text": [
            "Selected variables are ['avg_annual_work_all', 'ineq_index']\n"
          ],
          "name": "stdout"
        }
      ]
    },
    {
      "cell_type": "markdown",
      "metadata": {
        "id": "RogsFsmJfK5I",
        "colab_type": "text"
      },
      "source": [
        "##Method 3: Backward and Forward Selection\n",
        "\n",
        "This is a combination of the previous two methods. It begins with selecting the single variable with the highest F-value when regressed against `wage_gap`. It does an iteration of forward selection. And then after each additional iteration of forward selection, backward elimination is used to eliminate the variable with the highest p-value (given that it's greater than 0.05). The selection process is complete when the highest F-value is obtained and all p-values are significant."
      ]
    },
    {
      "cell_type": "code",
      "metadata": {
        "id": "HdAxUFabtXDj",
        "colab_type": "code",
        "cellView": "form",
        "outputId": "8e88516c-382a-48c6-fcb6-3692d75c73f7",
        "colab": {
          "base_uri": "https://localhost:8080/",
          "height": 34
        }
      },
      "source": [
        "#@title Code for Backward and Forward Variable Selection\n",
        "columns = final_dup.columns\n",
        "X = final_dup[columns[2:]]\n",
        "y = final_dup[\"wage_gap\"]\n",
        "\n",
        "# Adding constant column of ones, mandatory for sm.OLS model\n",
        "X_1 = sm.add_constant(X)\n",
        "\n",
        "# Forward Elimination\n",
        "cols = list(X.columns)\n",
        "fb_selected_feats = []\n",
        "max_f = 0\n",
        "while len(cols) > 0:\n",
        "  fs = []\n",
        "  # Forward Selection\n",
        "  for i in cols:\n",
        "      temp_feats = fb_selected_feats + [i]\n",
        "      X_1 = sm.add_constant(X[temp_feats])\n",
        "      model = sm.OLS(y, X_1).fit()\n",
        "      f = model.fvalue\n",
        "      fs.append(f)\n",
        "  if (max(fs) > max_f):\n",
        "    max_f = max(fs)\n",
        "    high_f_idx = np.argmax(fs)\n",
        "    fb_selected_feats.append(cols[high_f_idx])\n",
        "    cols.pop(high_f_idx)\n",
        "\n",
        "    # Backward Elimination\n",
        "    if len(fb_selected_feats) > 1:\n",
        "      ## Drop feat with the highest p-value > 0.05\n",
        "      X_1 = X[fb_selected_feats]\n",
        "      X_1 = sm.add_constant(X_1)\n",
        "      model = sm.OLS(y, X_1).fit()\n",
        "      p = pd.Series(model.pvalues.values)      \n",
        "      pmax = max(p)\n",
        "      feature_with_p_max = p.idxmax()\n",
        "      if (pmax > 0.05):\n",
        "          fb_selected_feats.pop(feature_with_p_max-1)\n",
        "  else:\n",
        "    break\n",
        "\n",
        "print(\"Selected variables are\", fb_selected_feats)\n"
      ],
      "execution_count": 0,
      "outputs": [
        {
          "output_type": "stream",
          "text": [
            "Selected variables are ['avg_annual_work_all', 'ineq_index']\n"
          ],
          "name": "stdout"
        }
      ]
    },
    {
      "cell_type": "markdown",
      "metadata": {
        "id": "xyK0c8Zr7Sh7",
        "colab_type": "text"
      },
      "source": [
        "#The Model\n",
        "\n",
        "All three models selected the same two variables: `avg_annual_work_all` and `inqe_index`. (Note: It is not always guaranteed that these model selection processes will produce the same results). Therefore, we can go ahead and run our model with these two predictors. "
      ]
    },
    {
      "cell_type": "code",
      "metadata": {
        "id": "x5Wd2THCulcE",
        "colab_type": "code",
        "cellView": "form",
        "outputId": "9b370089-24ba-4dbe-f6f8-37689b75a582",
        "colab": {
          "base_uri": "https://localhost:8080/",
          "height": 499
        }
      },
      "source": [
        "#@title Code for Regression with selected variables\n",
        "final_dup3 = final_dup[f_selected_feats]\n",
        "\n",
        "columns = final_dup3.columns\n",
        "X = final_dup3\n",
        "y = final_dup[\"wage_gap\"]\n",
        "\n",
        "# Multiple Linear Regression\n",
        "X_1 = sm.add_constant(X)\n",
        "model_forward = sm.OLS(y, X_1).fit()\n",
        "predictions = model_forward.predict(X_1) # make the predictions by the model\n",
        "\n",
        "# Print out the statistics\n",
        "model_forward.summary()"
      ],
      "execution_count": 0,
      "outputs": [
        {
          "output_type": "execute_result",
          "data": {
            "text/html": [
              "<table class=\"simpletable\">\n",
              "<caption>OLS Regression Results</caption>\n",
              "<tr>\n",
              "  <th>Dep. Variable:</th>        <td>wage_gap</td>     <th>  R-squared:         </th> <td>   0.176</td>\n",
              "</tr>\n",
              "<tr>\n",
              "  <th>Model:</th>                   <td>OLS</td>       <th>  Adj. R-squared:    </th> <td>   0.137</td>\n",
              "</tr>\n",
              "<tr>\n",
              "  <th>Method:</th>             <td>Least Squares</td>  <th>  F-statistic:       </th> <td>   4.486</td>\n",
              "</tr>\n",
              "<tr>\n",
              "  <th>Date:</th>             <td>Tue, 17 Dec 2019</td> <th>  Prob (F-statistic):</th>  <td>0.0172</td> \n",
              "</tr>\n",
              "<tr>\n",
              "  <th>Time:</th>                 <td>00:01:28</td>     <th>  Log-Likelihood:    </th> <td> -147.88</td>\n",
              "</tr>\n",
              "<tr>\n",
              "  <th>No. Observations:</th>      <td>    45</td>      <th>  AIC:               </th> <td>   301.8</td>\n",
              "</tr>\n",
              "<tr>\n",
              "  <th>Df Residuals:</th>          <td>    42</td>      <th>  BIC:               </th> <td>   307.2</td>\n",
              "</tr>\n",
              "<tr>\n",
              "  <th>Df Model:</th>              <td>     2</td>      <th>                     </th>     <td> </td>   \n",
              "</tr>\n",
              "<tr>\n",
              "  <th>Covariance Type:</th>      <td>nonrobust</td>    <th>                     </th>     <td> </td>   \n",
              "</tr>\n",
              "</table>\n",
              "<table class=\"simpletable\">\n",
              "<tr>\n",
              "           <td></td>              <th>coef</th>     <th>std err</th>      <th>t</th>      <th>P>|t|</th>  <th>[0.025</th>    <th>0.975]</th>  \n",
              "</tr>\n",
              "<tr>\n",
              "  <th>const</th>               <td>  -35.0835</td> <td>   16.192</td> <td>   -2.167</td> <td> 0.036</td> <td>  -67.759</td> <td>   -2.408</td>\n",
              "</tr>\n",
              "<tr>\n",
              "  <th>avg_annual_work_all</th> <td>    0.0203</td> <td>    0.007</td> <td>    2.878</td> <td> 0.006</td> <td>    0.006</td> <td>    0.035</td>\n",
              "</tr>\n",
              "<tr>\n",
              "  <th>ineq_index</th>          <td>   -6.0362</td> <td>    2.321</td> <td>   -2.601</td> <td> 0.013</td> <td>  -10.719</td> <td>   -1.353</td>\n",
              "</tr>\n",
              "</table>\n",
              "<table class=\"simpletable\">\n",
              "<tr>\n",
              "  <th>Omnibus:</th>       <td> 1.085</td> <th>  Durbin-Watson:     </th> <td>   1.991</td>\n",
              "</tr>\n",
              "<tr>\n",
              "  <th>Prob(Omnibus):</th> <td> 0.581</td> <th>  Jarque-Bera (JB):  </th> <td>   1.077</td>\n",
              "</tr>\n",
              "<tr>\n",
              "  <th>Skew:</th>          <td> 0.245</td> <th>  Prob(JB):          </th> <td>   0.584</td>\n",
              "</tr>\n",
              "<tr>\n",
              "  <th>Kurtosis:</th>      <td> 2.421</td> <th>  Cond. No.          </th> <td>2.89e+04</td>\n",
              "</tr>\n",
              "</table><br/><br/>Warnings:<br/>[1] Standard Errors assume that the covariance matrix of the errors is correctly specified.<br/>[2] The condition number is large, 2.89e+04. This might indicate that there are<br/>strong multicollinearity or other numerical problems."
            ],
            "text/plain": [
              "<class 'statsmodels.iolib.summary.Summary'>\n",
              "\"\"\"\n",
              "                            OLS Regression Results                            \n",
              "==============================================================================\n",
              "Dep. Variable:               wage_gap   R-squared:                       0.176\n",
              "Model:                            OLS   Adj. R-squared:                  0.137\n",
              "Method:                 Least Squares   F-statistic:                     4.486\n",
              "Date:                Tue, 17 Dec 2019   Prob (F-statistic):             0.0172\n",
              "Time:                        00:01:28   Log-Likelihood:                -147.88\n",
              "No. Observations:                  45   AIC:                             301.8\n",
              "Df Residuals:                      42   BIC:                             307.2\n",
              "Df Model:                           2                                         \n",
              "Covariance Type:            nonrobust                                         \n",
              "=======================================================================================\n",
              "                          coef    std err          t      P>|t|      [0.025      0.975]\n",
              "---------------------------------------------------------------------------------------\n",
              "const                 -35.0835     16.192     -2.167      0.036     -67.759      -2.408\n",
              "avg_annual_work_all     0.0203      0.007      2.878      0.006       0.006       0.035\n",
              "ineq_index             -6.0362      2.321     -2.601      0.013     -10.719      -1.353\n",
              "==============================================================================\n",
              "Omnibus:                        1.085   Durbin-Watson:                   1.991\n",
              "Prob(Omnibus):                  0.581   Jarque-Bera (JB):                1.077\n",
              "Skew:                           0.245   Prob(JB):                        0.584\n",
              "Kurtosis:                       2.421   Cond. No.                     2.89e+04\n",
              "==============================================================================\n",
              "\n",
              "Warnings:\n",
              "[1] Standard Errors assume that the covariance matrix of the errors is correctly specified.\n",
              "[2] The condition number is large, 2.89e+04. This might indicate that there are\n",
              "strong multicollinearity or other numerical problems.\n",
              "\"\"\""
            ]
          },
          "metadata": {
            "tags": []
          },
          "execution_count": 140
        }
      ]
    },
    {
      "cell_type": "markdown",
      "metadata": {
        "id": "eTFbSXJBEmkz",
        "colab_type": "text"
      },
      "source": [
        "###Assumption: Testing for Homoskedasticity\n",
        "Going back to our fourth assumption for MLR, we can now plot the residual plot after fitting the model. The residual plot appears to be randomly scattered, meeting the homoskedasticity assumption."
      ]
    },
    {
      "cell_type": "code",
      "metadata": {
        "id": "N43m6WUMY2gx",
        "colab_type": "code",
        "cellView": "form",
        "outputId": "07358349-ccdf-424e-a3b1-67e860023c42",
        "colab": {
          "base_uri": "https://localhost:8080/",
          "height": 296
        }
      },
      "source": [
        "#@title Code for plotting residuals\n",
        "# Plot the residuals after fitting a linear model\n",
        "sns.residplot(final_dup[\"wage_gap\"], predictions, lowess=True, color=\"g\")"
      ],
      "execution_count": 0,
      "outputs": [
        {
          "output_type": "execute_result",
          "data": {
            "text/plain": [
              "<matplotlib.axes._subplots.AxesSubplot at 0x7fe68d5dbdd8>"
            ]
          },
          "metadata": {
            "tags": []
          },
          "execution_count": 141
        },
        {
          "output_type": "display_data",
          "data": {
            "image/png": "[encoded data removed]",
            "text/plain": [
              "<Figure size 432x288 with 1 Axes>"
            ]
          },
          "metadata": {
            "tags": []
          }
        }
      ]
    },
    {
      "cell_type": "markdown",
      "metadata": {
        "id": "2tW7yKsUwBw1",
        "colab_type": "text"
      },
      "source": [
        "###Interpreting the Output\n",
        "Our linear regression model is:\n",
        "$$Y = 0.0203X_1 - 6.0362X_2 - 35.0835$$\n",
        "\n",
        "Where $X_1 =$ `avg_annual_work_all`, $X_2 =$ `ineq_index`, and $Y =$ `wage_gap`.\n",
        "\n",
        "* All three selection methods select the average hours worked (all genders) and the inequality index as the most signficant predictors of a country's wage gap. \n",
        "\n",
        "* The coefficients of the this model are negative for `avg_annual_work_all` and positive for `ineq_index`. This is an interesting result as we wouldn't intuitively expect the wage gap to increase as the inequality index decreases. \n",
        "\n",
        "* Also note that the r-squared is extremely low, which we discuss in the conclusion section of this case study."
      ]
    },
    {
      "cell_type": "markdown",
      "metadata": {
        "id": "glhMEiWhXGuf",
        "colab_type": "text"
      },
      "source": [
        "# Conclusion"
      ]
    },
    {
      "cell_type": "markdown",
      "metadata": {
        "id": "Za-mBNXb3rIZ",
        "colab_type": "text"
      },
      "source": [
        "Each method for variable selection that we explored identified the same two significant variables to use for our multiple linear regression. These MLR results tell a story that seems to challenge our intuition about wage gap: \n",
        "\n",
        "* `avg_annual_work_all`, or the average annual hours worked, had a small positive coefficient. This indicates that the more hours worked, the larger the wage gap. While we cannot draw a causal relationship between this predictor and `wage_gap`, it provides interesting information of how hours worked does impact the `wage_gap` of a country.\n",
        "\n",
        "* `ineq_index`, or the inequality index, has a negative coefficient. This indicates that the higher the inequality index, the smaller the wage_gap. These results are contrary to our intuition as we would think that higher wage gap would imply higher inequality. However, the only conclusion we can draw from this is that the elements captured in `ineq_index` (reproductive health, labor participation rate, and proportion of women in parliamentary seats) are negatively correlated with the gender wage gap. If the inequality index was calcuated with other inputs that would also contribute to \"inequality,\" the correlation may be different.\n",
        "\n",
        "\n",
        "##Limitations\n",
        "Although a linear regression is appropriate for this dataset (based on the assumptions aforementioned), the results of our model may be indicative of noise in the data. The set of independent variables that we happened to have selected may just not explain enough of the variation in the `wage_gap`, resulting in a very low r-squared. \n",
        "\n",
        "Perhaps, we would need to significantly expand the number of independent variables in our analysis to get even more meaningful results.\n",
        "\n"
      ]
    }
  ]
}